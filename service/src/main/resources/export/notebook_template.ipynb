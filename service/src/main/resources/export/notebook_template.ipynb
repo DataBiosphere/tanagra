{
  "metadata": {
    "kernelspec": {
      "display_name": "Python 3",
      "language": "python",
      "name": "python3"
    }
  },
  "cells": [
    {
      "cell_type": "code",
      "execution_count": null,
      "metadata": {},
      "outputs": [],
      "source": [
        "import pandas\n",
        "import os\n",
        "\n",
        "# This query was generated for dataset ${underlayName} in study ${studyName} at ${timestamp}.\n",
        "${entityName}_sql = \"\"\"\n",
        "${formattedSql}\n",
        "\"\"\"\n",
        "\n",
        "${entityName}_df = pandas.read_gbq(\n",
        "    dataset_${entityName}_sql,\n",
        "    dialect=\"standard\",\n",
        "    use_bqstorage_api=(\"BIGQUERY_STORAGE_API_ENABLED\" in os.environ),\n",
        "    progress_bar_type=\"tqdm_notebook\")\n",
        "\n",
        "${entityName}_df.head(5)\n"
      ]
    }
  ],
  "nbformat": 4,
  "nbformat_minor": 2
}