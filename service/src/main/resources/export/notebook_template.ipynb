import pandas
import os

# This query was generated for dataset ${underlayName} in study ${studyName} at ${timestamp}.
${entityName}_sql = """
${formattedSql}
"""

${entityName}_df = pandas.read_gbq(
    dataset_${entityName}_sql,
    dialect="standard",
    use_bqstorage_api=("BIGQUERY_STORAGE_API_ENABLED" in os.environ),
    progress_bar_type="tqdm_notebook")

${entityName}_df.head(5)
